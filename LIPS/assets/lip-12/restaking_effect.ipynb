{
 "cells": [
  {
   "cell_type": "markdown",
   "id": "b596d235",
   "metadata": {},
   "source": [
    "# Restaking EL-rewards evaluation"
   ]
  },
  {
   "cell_type": "code",
   "execution_count": 91,
   "id": "690449fa",
   "metadata": {},
   "outputs": [],
   "source": [
    "# Derived from https://github.com/lidofinance/Beaconchain_model/blob/main/queue_modeling.ipynb\n",
    "\n",
    "import matplotlib.pyplot as plt\n",
    "import numpy as np\n",
    "import pandas as pd\n",
    "import math\n",
    "import requests\n",
    "import logging\n",
    "\n",
    "%matplotlib inline\n",
    "\n",
    "SLOTS_PER_EPOCH = 32\n",
    "SECONDS_PER_SLOT = 12\n",
    "EPOCHS_PER_YEAR = 82180\n",
    "EPOCHS_PER_DAY = 225\n",
    "SECONDS_PER_YEAR = 31556952\n",
    "\n",
    "MERGE_EPOCH = 122962\n",
    "MERGE_VALIDATORS = 319936\n",
    "\n",
    "validators_per_epoch_forecasted = 1.137662835249042 \n",
    "\n",
    "# define annualised base reward (measured in ETH) for n validators\n",
    "# assuming all validators have an effective balance of 32 ETH\n",
    "def annualised_base_reward(n: int) -> float:\n",
    "    return EPOCHS_PER_YEAR * 512 / math.sqrt(n * 32e9)\n",
    "\n",
    "# define estimated mean # of blocks proposed per validator per year\n",
    "# n is the number of active network validators - the average case of pmf\n",
    "def average_blocks_proposed_per_year(no_of_validators: int) -> float: # mean\n",
    "    return SECONDS_PER_YEAR / (12 * no_of_validators) # 12 seconds = 1 slot\n",
    "\n",
    "def get_epoch_data(epoch: str = \"latest\") -> str:\n",
    "    try:\n",
    "        req = requests.get(f\"https://beaconcha.in/api/v1/epoch/{epoch}\", headers={\"accept\":\"application/json\"})\n",
    "        req.raise_for_status()\n",
    "        return req.json()[\"data\"]\n",
    "    except requests.exceptions.HTTPError as err:\n",
    "        logging.error(err)\n",
    "        return {}\n",
    "\n",
    "def day_to_epoch(day_number_from_merge: int) -> int:\n",
    "    return merge_epoch + (day_number_from_merge * EPOCHS_PER_DAY)\n",
    "\n",
    "def epoch_to_day(epoch: int) -> int:\n",
    "    return (epoch - merge_epoch) // EPOCHS_PER_DAY\n",
    "\n",
    "def get_validators_at_epoch(epoch: int) -> int:\n",
    "    return merge_validators + validators_per_epoch_forecasted * (epoch - merge_epoch) \n",
    "    "
   ]
  },
  {
   "cell_type": "code",
   "execution_count": 92,
   "id": "2bf83237",
   "metadata": {},
   "outputs": [],
   "source": [
    "priority_fee_monthly  = 21539 # https://dune.xyz/queries/382535\n",
    "avg_mev_reward_per_block = 0.185 # inferring from flashbots activity, we obtain this number by substracting the Flashbots miner tip from the tail gas price multiplied by the gas used by the mined Flashbots bundle.\n",
    "block_selection_frequency_flashbots = 58 # % of blocks seen by Flashbots-enabled miners contains Flashbots bundles\n",
    "today_validators = validators_on_the_network_today = get_epoch_data(epoch=\"latest\")['validatorscount']\n",
    "max_number_of_validators = 40_000_000 // 32\n",
    "altair_multiplier = 0.855 # Altair hardfork block reward multiplier\n",
    "\n",
    "\n",
    "# Verification stake\n",
    "initial_stake = 320\n",
    "years = 3\n",
    "\n",
    "# Day 0: entry point\n",
    "days = round(years * 365.) + 1\n",
    "\n",
    "x = np.zeros(days)\n",
    "for d in range(days):\n",
    "    x[d] = d"
   ]
  },
  {
   "cell_type": "code",
   "execution_count": 93,
   "id": "40ceb89a",
   "metadata": {},
   "outputs": [],
   "source": [
    "# Ideal, with and without MEV/tx fee\n",
    "\n",
    "lower_bound_for_active_staked_eth = 524288 # required for ETH2 to start\n",
    "upper_bound_for_active_staked_eth = max_number_of_validators * 32\n",
    "\n",
    "n_validators = [n for n in range(lower_bound_for_active_staked_eth//32,int(upper_bound_for_active_staked_eth)//32,1000)] # get no of validators for the range 0.5M to 10M staked ETH, 3200 at a time\n",
    "ideal_reward = [(4 * annualised_base_reward(n) * altair_multiplier) for n in n_validators]\n",
    "ideal_reward_with_mev_and_pf = [(\n",
    "    4 * annualised_base_reward(n) * altair_multiplier\n",
    "    + (avg_mev_reward_per_block * average_blocks_proposed_per_year(n) * (block_selection_frequency_flashbots/100)) \n",
    "    + priority_fee_monthly*12/n\n",
    ") for n in n_validators]"
   ]
  },
  {
   "cell_type": "code",
   "execution_count": 94,
   "id": "c33d26db",
   "metadata": {},
   "outputs": [],
   "source": [
    "# tabulate returns for various amounts of validators with and without MEV\n",
    "# setup an array of various # of possible active validators\n",
    "\n",
    "n_validators = [get_validators_at_epoch(day_to_epoch(d)) for d in x]\n",
    "ideal_reward = [(4 * annualised_base_reward(n) * altair_multiplier) for n in n_validators]\n",
    "ideal_reward_with_mev_and_pf = [(\n",
    "    4 * annualised_base_reward(n) * altair_multiplier\n",
    "    + (avg_mev_reward_per_block * average_blocks_proposed_per_year(n) * (block_selection_frequency_flashbots/100)) \n",
    "    + priority_fee_monthly*12/n\n",
    ") for n in n_validators]\n",
    "\n",
    "staked = [32 * n for n in n_validators] # ETH actively staked in the network\n",
    "annual_yield = [100 * r / 32 for r in ideal_reward]\n",
    "annual_yield_with_mev = [100 * r / 32 for r in ideal_reward_with_mev_and_pf]\n",
    "\n",
    "simple_DPR = [v / 365. for v in annual_yield_with_mev]\n",
    "mev_tx_DPR = np.subtract(annual_yield_with_mev, annual_yield) / 365."
   ]
  },
  {
   "cell_type": "markdown",
   "id": "d3950a25",
   "metadata": {},
   "source": [
    "## Straightforward benchmark (without reinvesting)"
   ]
  },
  {
   "cell_type": "markdown",
   "id": "76dde993",
   "metadata": {},
   "source": [
    "$\\begin{align}\n",
    "y\\_benchmark_{0} = initial\\_stake \\\\\n",
    "y\\_benchmark_{day} = y\\_benchmark_{day} + initial\\_stake * \\frac{simple\\_DPR_{day}}{100})\n",
    "\\end{align}$"
   ]
  },
  {
   "cell_type": "code",
   "execution_count": 95,
   "id": "9183cd90",
   "metadata": {},
   "outputs": [],
   "source": [
    "# Benchmark goes without restaking\n",
    "\n",
    "y_benchmark = np.zeros(days)\n",
    "\n",
    "y_benchmark[0] = initial_stake\n",
    "for day in range(1, days):\n",
    "    y_benchmark[day] = y_benchmark[day-1] + simple_DPR[day]/100. * initial_stake"
   ]
  },
  {
   "cell_type": "markdown",
   "id": "c74e5173",
   "metadata": {},
   "source": [
    "## Restaking scheme (compound interest for the EL-rewards)"
   ]
  },
  {
   "cell_type": "markdown",
   "id": "f57367f5",
   "metadata": {},
   "source": [
    "$\\begin{align}\n",
    "y\\_restaking_{0} = initial\\_stake \\\\\n",
    "y\\_restaking_{day} = y\\_restaking_{day-1} + initial\\_stake * (\\frac{simple\\_DPR_{day}}{100}) * (1 + \\frac{mev\\_tx\\_DPR_{day}}{100})^{day} \n",
    "\\end{align}$"
   ]
  },
  {
   "cell_type": "code",
   "execution_count": 96,
   "id": "ef7f72ac",
   "metadata": {},
   "outputs": [],
   "source": [
    "# Balances with restaking\n",
    "\n",
    "y_restaking = np.zeros(days)\n",
    "y_restaking[0] = initial_stake\n",
    "\n",
    "for d in range(1, days):\n",
    "    day_d_stake = initial_stake * (1+mev_tx_DPR[d] / 100.)**d\n",
    "    day_d_delta = simple_DPR[d] / 100. * day_d_stake\n",
    "    y_restaking[d] = y_restaking[d-1] + day_d_delta    "
   ]
  },
  {
   "cell_type": "markdown",
   "id": "665bf1e0",
   "metadata": {},
   "source": [
    "### Plots"
   ]
  },
  {
   "cell_type": "code",
   "execution_count": 97,
   "id": "1806c797",
   "metadata": {},
   "outputs": [
    {
     "data": {
      "text/plain": [
       "<matplotlib.legend.Legend at 0x7f0ecdb4da80>"
      ]
     },
     "execution_count": 97,
     "metadata": {},
     "output_type": "execute_result"
    },
    {
     "data": {
      "image/png": "[encoded data removed]",
      "text/plain": [
       "<Figure size 432x288 with 1 Axes>"
      ]
     },
     "metadata": {
      "needs_background": "light"
     },
     "output_type": "display_data"
    }
   ],
   "source": [
    "fig=plt.figure()\n",
    "ax=fig.add_axes([0, 0, 1, 1])\n",
    "ax.plot(x,y_benchmark, label=\"benchmark\")\n",
    "ax.plot(x,y_restaking, label=\"restaking\")\n",
    "ax.set_title(\"Balance comparison\")\n",
    "ax.set_xlabel(\"day\")\n",
    "ax.set_ylabel(\"balance\")\n",
    "ax.legend()"
   ]
  },
  {
   "cell_type": "markdown",
   "id": "613a4aea",
   "metadata": {},
   "source": [
    "## Overall results"
   ]
  },
  {
   "cell_type": "code",
   "execution_count": 98,
   "id": "04019aa0",
   "metadata": {},
   "outputs": [
    {
     "name": "stdout",
     "output_type": "stream",
     "text": [
      "final benchmark balance: 392.4013170327173\n",
      "final restaking balance: 395.9643459130273\n",
      "benchmark APR: 7.54%\n",
      "restaking APY: 7.91%\n",
      "APY/APR diff: 0.37%\n"
     ]
    }
   ],
   "source": [
    "print(f\"final benchmark balance: {y_benchmark[days-1]}\")\n",
    "print(f\"final restaking balance: {y_restaking[days-1]}\")\n",
    "\n",
    "b_APR = (y_benchmark[days-1]-initial_stake)/initial_stake * 100. / ((days-1) / 365.)\n",
    "print(f\"benchmark APR: {b_APR:.2f}%\")\n",
    "\n",
    "r_APY = (y_restaking[days-1]-initial_stake)/initial_stake * 100. / ((days-1) / 365.)\n",
    "print(f\"restaking APY: {r_APY:.2f}%\")\n",
    "\n",
    "print(f\"APY/APR diff: {r_APY-b_APR:.2f}%\")"
   ]
  }
 ],
 "metadata": {
  "kernelspec": {
   "display_name": "Python 3 (ipykernel)",
   "language": "python",
   "name": "python3"
  },
  "language_info": {
   "codemirror_mode": {
    "name": "ipython",
    "version": 3
   },
   "file_extension": ".py",
   "mimetype": "text/x-python",
   "name": "python",
   "nbconvert_exporter": "python",
   "pygments_lexer": "ipython3",
   "version": "3.10.2"
  }
 },
 "nbformat": 4,
 "nbformat_minor": 5
}
