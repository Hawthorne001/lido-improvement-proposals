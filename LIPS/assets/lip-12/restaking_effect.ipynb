{
 "cells": [
  {
   "cell_type": "markdown",
   "id": "b596d235",
   "metadata": {},
   "source": [
    "# Restaking EL-rewards evaluation"
   ]
  },
  {
   "cell_type": "code",
   "execution_count": 1,
   "id": "690449fa",
   "metadata": {},
   "outputs": [],
   "source": [
    "import matplotlib.pyplot as plt\n",
    "import numpy as np\n",
    "import math\n",
    "%matplotlib inline\n",
    "\n",
    "# Annual rates\n",
    "staking_APR = 4.5\n",
    "mev_tx_APR = 4.5\n",
    "simple_APR = staking_APR + mev_tx_APR\n",
    "\n",
    "# Daily\n",
    "staking_DPR = staking_APR / 365.\n",
    "mev_tx_DPR = mev_tx_APR / 365.\n",
    "simple_DPR = staking_DPR + mev_tx_DPR\n",
    "\n",
    "# Verification stake\n",
    "initial_stake = 320\n",
    "\n",
    "years = 3.\n",
    "\n",
    "# Day 0: entry point\n",
    "days = round(years * 365.) + 1\n",
    "\n",
    "x = np.zeros(days)\n",
    "for d in range(days):\n",
    "    x[d] = d"
   ]
  },
  {
   "cell_type": "markdown",
   "id": "d3950a25",
   "metadata": {},
   "source": [
    "## Straightforward benchmark (without reinvesting)"
   ]
  },
  {
   "cell_type": "markdown",
   "id": "76dde993",
   "metadata": {},
   "source": [
    "$\\begin{align}\n",
    "y\\_benchmark_{day} = initial\\_stake * (1. + day \\frac{simple\\_DPR}{100})\n",
    "\\end{align}$"
   ]
  },
  {
   "cell_type": "code",
   "execution_count": 2,
   "id": "9183cd90",
   "metadata": {},
   "outputs": [],
   "source": [
    "# Benchmark goes without restaking\n",
    "\n",
    "y_benchmark = np.zeros(days)\n",
    "\n",
    "for day in range(days):\n",
    "    y_benchmark[day] = initial_stake * (1. + day * simple_DPR/100.)"
   ]
  },
  {
   "cell_type": "markdown",
   "id": "c74e5173",
   "metadata": {},
   "source": [
    "## Restaking scheme (compound interest for the EL-rewards)"
   ]
  },
  {
   "cell_type": "markdown",
   "id": "f57367f5",
   "metadata": {},
   "source": [
    "$\\begin{align}\n",
    "y\\_restaking_{0} = initial\\_stake \\\\\n",
    "y\\_restaking_{day} = y\\_restaking_{day-1} + initial\\_stake * (\\frac{simple\\_DPR}{100}) * (1 + \\frac{mev\\_tx\\_DPR}{100})^{day} \n",
    "\\end{align}$"
   ]
  },
  {
   "cell_type": "code",
   "execution_count": 3,
   "id": "ef7f72ac",
   "metadata": {},
   "outputs": [],
   "source": [
    "# Balances with restaking\n",
    "\n",
    "y_restaking = np.zeros(days)\n",
    "y_restaking[0] = initial_stake\n",
    "\n",
    "for d in range(1, days):\n",
    "    day_d_stake = initial_stake * (1+mev_tx_DPR / 100.)**d\n",
    "    day_d_delta = simple_DPR / 100. * day_d_stake\n",
    "    y_restaking[d] = y_restaking[d-1] + day_d_delta    "
   ]
  },
  {
   "cell_type": "markdown",
   "id": "665bf1e0",
   "metadata": {},
   "source": [
    "### Plots"
   ]
  },
  {
   "cell_type": "code",
   "execution_count": 4,
   "id": "1806c797",
   "metadata": {},
   "outputs": [
    {
     "data": {
      "text/plain": [
       "<matplotlib.legend.Legend at 0x7fd3947adbe0>"
      ]
     },
     "execution_count": 4,
     "metadata": {},
     "output_type": "execute_result"
    },
    {
     "data": {
      "image/png": "[encoded data removed]",
      "text/plain": [
       "<Figure size 432x288 with 1 Axes>"
      ]
     },
     "metadata": {
      "needs_background": "light"
     },
     "output_type": "display_data"
    }
   ],
   "source": [
    "fig=plt.figure()\n",
    "ax=fig.add_axes([0, 0, 1, 1])\n",
    "ax.plot(x,y_benchmark, label=\"benchmark\")\n",
    "ax.plot(x,y_restaking, label=\"restaking\")\n",
    "ax.set_title(\"Balance comparison\")\n",
    "ax.set_xlabel(\"day\")\n",
    "ax.set_ylabel(\"balance\")\n",
    "ax.legend()"
   ]
  },
  {
   "cell_type": "markdown",
   "id": "613a4aea",
   "metadata": {},
   "source": [
    "## Overall results"
   ]
  },
  {
   "cell_type": "code",
   "execution_count": 5,
   "id": "04019aa0",
   "metadata": {},
   "outputs": [
    {
     "name": "stdout",
     "output_type": "stream",
     "text": [
      "final benchmark balance: 406.4\n",
      "final restaking balance: 412.5088504717104\n",
      "benchmark APR: 9.00%\n",
      "restaking APY: 9.64%\n",
      "APY/APR diff: 0.64%\n"
     ]
    }
   ],
   "source": [
    "print(f\"final benchmark balance: {y_benchmark[days-1]}\")\n",
    "print(f\"final restaking balance: {y_restaking[days-1]}\")\n",
    "\n",
    "b_APR = (y_benchmark[days-1]-initial_stake)/initial_stake * 100. / ((days-1) / 365.)\n",
    "print(f\"benchmark APR: {b_APR:.2f}%\")\n",
    "\n",
    "r_APY = (y_restaking[days-1]-initial_stake)/initial_stake * 100. / ((days-1) / 365.)\n",
    "print(f\"restaking APY: {r_APY:.2f}%\")\n",
    "\n",
    "print(f\"APY/APR diff: {r_APY-b_APR:.2f}%\")"
   ]
  }
 ],
 "metadata": {
  "kernelspec": {
   "display_name": "Python 3 (ipykernel)",
   "language": "python",
   "name": "python3"
  },
  "language_info": {
   "codemirror_mode": {
    "name": "ipython",
    "version": 3
   },
   "file_extension": ".py",
   "mimetype": "text/x-python",
   "name": "python",
   "nbconvert_exporter": "python",
   "pygments_lexer": "ipython3",
   "version": "3.9.7"
  }
 },
 "nbformat": 4,
 "nbformat_minor": 5
}
